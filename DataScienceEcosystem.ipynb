{
 "cells": [
  {
   "cell_type": "markdown",
   "id": "722ed54a-ccc6-486e-b950-4a1098033a65",
   "metadata": {},
   "source": [
    "<H1>Data Science Tools and Ecosystem"
   ]
  },
  {
   "cell_type": "markdown",
   "id": "e26b9ab5-c39b-46ae-854b-1aa0757b2dc2",
   "metadata": {
    "tags": []
   },
   "source": [
    "<H2>Author : Wilson TSANG"
   ]
  },
  {
   "cell_type": "markdown",
   "id": "d70ba57f-7420-4523-99db-250098af1116",
   "metadata": {},
   "source": [
    "In this notebook, Data Science Tools and Ecosystem are summarized."
   ]
  },
  {
   "cell_type": "markdown",
   "id": "6c8a02b4-f52a-4a93-ad4e-d0c1c35b6280",
   "metadata": {},
   "source": [
    "<strong>Objective of Notebook</strong>\n",
    "<ul>\n",
    "    <li>Listing popular languages in Data Science</li>\n",
    "    <li>Commonly used Libraries in Data Scientists</li>\n",
    "    <li>Some Example Coding</li>\n",
    "</ul>\n"
   ]
  },
  {
   "cell_type": "markdown",
   "id": "74629e59-a173-4893-9298-722655e0b343",
   "metadata": {},
   "source": [
    "Some of the popular languages that Data Scientists use are :\n",
    "<ol>\n",
    "  <li>Python</li>\n",
    "  <li>Julia</li>\n",
    "  <li>R</li>\n",
    "</ol>"
   ]
  },
  {
   "cell_type": "markdown",
   "id": "8004e306-f935-4a53-b8ea-6ebc616709e4",
   "metadata": {},
   "source": [
    "Some of the commonly used libraries in Data Scientists include :\n",
    "<ol>\n",
    "  <li>Numpy, Pandas in Python</li>\n",
    "  <li>Matplotlib in Python</li>\n",
    "  <li>ggplot, carat in R</li>\n",
    "</ol>"
   ]
  },
  {
   "cell_type": "markdown",
   "id": "877b9bcc-2ba7-4f74-9b80-a7ed0ad2b38d",
   "metadata": {},
   "source": [
    "There are some useful Data Science Tools as follows :\n",
    "\n",
    "<table style=\"width:100%\">\n",
    "  <tr>\n",
    "    <th>Tools</th>\n",
    "  </tr>\n",
    "      <tr>\n",
    "    <td>R Studio</td>\n",
    "  </tr>\n",
    "  <tr>\n",
    "    <td>Jupyter Notebook</td>\n",
    "  </tr>\n",
    "  <tr>\n",
    "    <td>SAS</td>\n",
    "\n",
    "  </tr>\n",
    "</table>"
   ]
  },
  {
   "cell_type": "markdown",
   "id": "50e66ae6-bf77-4a9c-b1ae-f0b5b00c87f1",
   "metadata": {},
   "source": [
    "<H3> Below are a few examples of evaluating arithmetic expressions in Python"
   ]
  },
  {
   "cell_type": "code",
   "execution_count": 1,
   "id": "e729ba24-3f71-412b-bd34-6687a4830a71",
   "metadata": {
    "tags": []
   },
   "outputs": [
    {
     "data": {
      "text/plain": [
       "17"
      ]
     },
     "execution_count": 1,
     "metadata": {},
     "output_type": "execute_result"
    }
   ],
   "source": [
    "# A simple arithmetic expression is shown as below\n",
    "(3*4)+5"
   ]
  },
  {
   "cell_type": "markdown",
   "id": "ef828a42-b6a6-4842-aa79-652af8c7c815",
   "metadata": {
    "tags": []
   },
   "source": [
    "<H3>Converting minutes to hours"
   ]
  },
  {
   "cell_type": "code",
   "execution_count": 6,
   "id": "6ae60ec7-fa4e-4b34-bd6c-9a8ba1c02357",
   "metadata": {
    "tags": []
   },
   "outputs": [
    {
     "data": {
      "text/plain": [
       "3.3333333333333335"
      ]
     },
     "execution_count": 6,
     "metadata": {},
     "output_type": "execute_result"
    }
   ],
   "source": [
    "# 200 minutes to 3 1/3 hours \n",
    "200/60"
   ]
  },
  {
   "cell_type": "markdown",
   "id": "cc97ffb4-fe51-4732-bd0e-486971098744",
   "metadata": {},
   "source": [
    "\n",
    "\n"
   ]
  },
  {
   "cell_type": "code",
   "execution_count": null,
   "id": "96405e49-f123-4be3-81d4-5d769c6a4a96",
   "metadata": {},
   "outputs": [],
   "source": []
  }
 ],
 "metadata": {
  "kernelspec": {
   "display_name": "Python",
   "language": "python",
   "name": "conda-env-python-py"
  },
  "language_info": {
   "codemirror_mode": {
    "name": "ipython",
    "version": 3
   },
   "file_extension": ".py",
   "mimetype": "text/x-python",
   "name": "python",
   "nbconvert_exporter": "python",
   "pygments_lexer": "ipython3",
   "version": "3.7.12"
  }
 },
 "nbformat": 4,
 "nbformat_minor": 5
}
